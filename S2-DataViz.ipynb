{
 "cells": [
  {
   "cell_type": "code",
   "execution_count": null,
   "id": "6ec0f003-ee3e-47cd-89f9-fad1c5c7b419",
   "metadata": {},
   "outputs": [],
   "source": [
    "! pip install matplotlib\n",
    "! pip install seaborn"
   ]
  },
  {
   "cell_type": "code",
   "execution_count": null,
   "id": "8000b864-8067-4a5e-985a-fc0d07eebcdc",
   "metadata": {},
   "outputs": [],
   "source": [
    "import numpy as np\n",
    "import pandas as pd"
   ]
  },
  {
   "cell_type": "code",
   "execution_count": null,
   "id": "04fd1d84-62bb-492b-a45d-ec6aa805a9cc",
   "metadata": {},
   "outputs": [],
   "source": [
    "import matplotlib.pyplot as plt"
   ]
  },
  {
   "cell_type": "markdown",
   "id": "57f203e1-d55d-4768-9b00-ca3c6004c1a7",
   "metadata": {},
   "source": [
    "## Des jeux de données pratiques et intéressants pour apprendre la DataViz\n",
    "\n",
    "* Les données utilisées en exemple par mon collègue Virgile Pesce dans son cours[« sciences des données »](https://github.com/virgilus/science-des-donnees) (répertoire data)\n",
    "\n",
    "* Les données préparées par les membres de [Our World in Data](https://github.com/owid) notamment le dépôt [owid-datasets](https://github.com/owid/owid-datasets). N’oubliez pas de visiter [leur site](https://ourworldindata.org/)\n",
    "\n",
    "* Sur Kaggle, des jeux de données « simples » comme\n",
    "[carbon emissions](https://www.kaggle.com/datasets/txtrouble/carbon-emissions) ou\n",
    "[US oil & gas production](https://www.kaggle.com/datasets/djzurawski/us-oil-and-gas-production-june-2008-to-june-2018)\n",
    "\n",
    "Vos exercices pratiques consisteront à reproduire les manips présentées avec différents jeux de données parmi ces exemples.\n",
    "\n",
    "Nous utiliserons aussi des données proposées par Wes McKinney (créateur de Pandas) pour illustrer son ouvrage :\n",
    "[Python for Data Analysis](https://github.com/wesm/pydata-book/tree/3rd-edition/datasets) notamment : haiti.csv sur les tremblement de terre en 2010 pour de la visualisation d’info géospatiale à la fin du cours.\n",
    "\n",
    "Créez un dossier data/ à côté de votre notebook, et téléchargez-y les fichiers de données que vous voudrez utiliser.\n",
    "\n",
    "Vos meilleures amies seront :\n",
    "* la [doc](https://matplotlib.org/stable/) de MatplotLib\n",
    "* les [cheatsheets](https://matplotlib.org/cheatsheets/)\n",
    "\n",
    "Au fait, vous connaissez [Zeal](https://zealdocs.org/) ? Il permet de consulter en local de nombreuses docs, dont celle de MatplotLib (et Pandas, et Numpy, et Python…)"
   ]
  },
  {
   "cell_type": "markdown",
   "id": "50dd6701-db21-4301-a975-11f4176c1792",
   "metadata": {},
   "source": [
    "## Matplotlib basics\n",
    "\n",
    "### Créer un graphe\n",
    "\n",
    "On peut très directement afficher en 2D une suite de données, à partir de deux listes, l’une correspondants aux abscisses l’autre aux ordonnées :"
   ]
  },
  {
   "cell_type": "code",
   "execution_count": null,
   "id": "1de9b30f-6c53-4071-b7fc-b39e9126945c",
   "metadata": {},
   "outputs": [],
   "source": [
    "x = [5, 23, 2, 6, 10, 18, 14, 21]\n",
    "y = [1, 2, 3, 20, 8, 25, 13, 15]\n",
    "\n",
    "plt.plot(x, y)\n",
    "plt.show()"
   ]
  },
  {
   "cell_type": "markdown",
   "id": "e65fc4c7-984f-4b50-a50d-4996abf7a2fc",
   "metadata": {},
   "source": [
    "```plt.show()``` déclenche l’affichange de la fenêtre contenant le graphe. Obligatoire si on code dans un module (fichier .py) mais optionnel dans Jupyter Notebook (dans ce cas mettre un ```;``` à la fin de la ligne contenant la méthode ```plt.plot()``` pour inhiber l’output de la cellule)."
   ]
  },
  {
   "cell_type": "markdown",
   "id": "02331962-6dba-4e1d-8139-2df971b21028",
   "metadata": {},
   "source": [
    "### Type de graphes\n",
    "\n",
    "```plt.plot()``` affiche des lignes contigues. Mais ce n’est pas adapté à toutes les données (cela ne fait sens que pour les données dans l’ordre en abscisses, et dont le type est continu). On dispose d’autres méthodes pour différents types de graphes :\n",
    "\n",
    "#### Nuages de point :"
   ]
  },
  {
   "cell_type": "code",
   "execution_count": null,
   "id": "30764b70-d97e-4aa4-9191-c863592d1543",
   "metadata": {},
   "outputs": [],
   "source": [
    "plt.scatter(x, y);"
   ]
  },
  {
   "cell_type": "markdown",
   "id": "09f7fa6c-30f6-454f-bfd1-7d4aa9bec445",
   "metadata": {},
   "source": [
    "#### Barplot\n",
    "\n",
    "Utilisés pour représenter des quantités dans différents ensembles discrets (catégories, périodes, etc.) qui peuvent être ordonnées, ou pas :"
   ]
  },
  {
   "cell_type": "code",
   "execution_count": null,
   "id": "1735f09c-76e4-42bf-91ce-739ab5c5ca15",
   "metadata": {},
   "outputs": [],
   "source": [
    "plt.bar(x, y);"
   ]
  },
  {
   "cell_type": "code",
   "execution_count": null,
   "id": "80f73023-6c3a-4520-87d5-c2229119cee3",
   "metadata": {},
   "outputs": [],
   "source": [
    "x2 = ['cat1', 'cat2', 'cat3', 'cat4', 'cat5', 'cat6', 'cat7', 'cat8']\n",
    "plt.bar(x2, y);"
   ]
  },
  {
   "cell_type": "markdown",
   "id": "46a85f66-36a3-44ec-8040-5dcc6095a22b",
   "metadata": {},
   "source": [
    "#### Histogrammes\n",
    "\n",
    "Il ne faut pas confondre barplots et histogrammes. Les histogrammes permettent de représenter par une surface une quantité. Très utilisés pour visualiser des distributions :"
   ]
  },
  {
   "cell_type": "code",
   "execution_count": null,
   "id": "c625c9e9-08af-4359-9b27-85fc068cfd4f",
   "metadata": {},
   "outputs": [],
   "source": [
    "n = np.random.normal(size=100)\n",
    "plt.hist(n, bins=20);"
   ]
  },
  {
   "cell_type": "code",
   "execution_count": null,
   "id": "c2783ea4-3ed8-4ccb-bd95-22d30ec13d38",
   "metadata": {},
   "outputs": [],
   "source": [
    "n = np.random.normal(size=1000)\n",
    "plt.hist(n, bins=20);"
   ]
  },
  {
   "cell_type": "code",
   "execution_count": null,
   "id": "92486646-0b4a-4a0a-9108-3cc1b28635e4",
   "metadata": {},
   "outputs": [],
   "source": [
    "n = np.random.normal(size=10000)\n",
    "plt.hist(n, bins=100);"
   ]
  },
  {
   "cell_type": "markdown",
   "id": "0ee91116-ed2e-484c-912c-56711052506f",
   "metadata": {},
   "source": [
    "### Mise en forme"
   ]
  },
  {
   "cell_type": "markdown",
   "id": "900d5592-79c7-4f9e-ad10-b146c83ed3eb",
   "metadata": {},
   "source": [
    "Le but de la visualisation est de rendre l’information plus parlante, de faciliter la compréhension et que la représentation soit fidèle (c.-à-d. n’induise pas de biais, p.-ex. adopter une échelle et un recadrage qui grossit des différences là où il n‘y en a pas). Il faut donc respecter certaines normes pratiques afin que la dataviz parvienne à son objectif :\n",
    "\n",
    "- donner un titre clair qui explicite ce qui est représenté\n",
    "- donner un nom aux axes pour comprendre les variables qui sont reportées\n",
    "- une légende avec un code couleur bien choisi qui améliore la lisibilité\n",
    "- une échelle et un marquage des axes qui permette de lire facilement les quantités\n",
    "\n",
    "En particulier, du point de vu éthique, on peut être attentif à l’accessibilité, notamment pour un  public malvoyant ou daltonien, mais qui peut également être affecté d’autres types de difficultés : cognitives, motrices…\n",
    "\n",
    "Plus d’informations sur l’accessibilité dans [cet article](https://thevizcollective.starschema.com/posts/accessibility-and-data-visualization) d’un collectif de professionnel-le-s de la dataviz (tout le site est très intéressant).\n",
    "\n",
    "Il existe plusieurs manières de mettre en forme des graphiques de matplotlib, dont les deux principales sont : \n",
    "- utiliser une méthode spécifique qui modifie un attribu particulier pour chaque objet composant le graphique qu’on veut modifier\n",
    "- passer des arguments a la méthode ```.set()``` de la classe Axes "
   ]
  },
  {
   "cell_type": "markdown",
   "id": "a5c5c743-0b98-418e-940e-8badddb6a266",
   "metadata": {},
   "source": [
    "#### Méthodes\n",
    "\n",
    "Ces méthodes sont bien-sûr à appeler avant ```plt.show()```\n",
    "\n",
    "* ajouter un titre :"
   ]
  },
  {
   "cell_type": "code",
   "execution_count": null,
   "id": "486b062e-6e84-4dca-8f45-faf43e0eed3b",
   "metadata": {},
   "outputs": [],
   "source": [
    "plt.bar(x2, y)\n",
    "\n",
    "plt.title('y en fonction de la catégorie x')\n",
    "\n",
    "plt.show()"
   ]
  },
  {
   "cell_type": "markdown",
   "id": "de78ecd3-bfad-44b8-9a00-77f1c06add18",
   "metadata": {},
   "source": [
    "Vous remarquerez que le titre décrit très factuellement ce que le graphe représente.\n",
    "\n",
    "Bien sûr, avec un tel titre, on aimerait bien avoir d’indiquer ce que chaque axe représente.\n",
    "\n",
    "* modifier les labels sur les axes :"
   ]
  },
  {
   "cell_type": "code",
   "execution_count": null,
   "id": "781a4b2b-7686-4176-9cc2-21e0116b9edb",
   "metadata": {},
   "outputs": [],
   "source": [
    "plt.bar(x2, y)\n",
    "plt.title('Quantité y en fonction de la catégorie x')\n",
    "\n",
    "plt.xlabel('Catégorie')\n",
    "plt.ylabel('Quantité')\n",
    "\n",
    "plt.show()"
   ]
  },
  {
   "cell_type": "markdown",
   "id": "d6b08146-634c-4404-9b7f-9ee499f9cf1e",
   "metadata": {},
   "source": [
    "* définir les graduations des axes :"
   ]
  },
  {
   "cell_type": "code",
   "execution_count": null,
   "id": "54897313-cf60-4c74-9b91-a257e556d8d2",
   "metadata": {},
   "outputs": [],
   "source": [
    "plt.bar(x, y)\n",
    "plt.title('Quantité y en fonction de la catégorie x')\n",
    "plt.xlabel('Catégorie')\n",
    "plt.ylabel('Quantité')\n",
    "\n",
    "plt.xticks(x)\n",
    "plt.yticks([5, 15, 25])\n",
    "\n",
    "plt.show()"
   ]
  },
  {
   "cell_type": "markdown",
   "id": "d81b4e26-32e7-46ae-8e9e-abcae496935f",
   "metadata": {},
   "source": [
    "* les limites des axes (l’échelle) :"
   ]
  },
  {
   "cell_type": "code",
   "execution_count": null,
   "id": "45a1c8bb-a672-42e2-a2fb-49bb9fb18181",
   "metadata": {},
   "outputs": [],
   "source": [
    "plt.bar(x, y)\n",
    "plt.title('Quantité y en fonction de la catégorie x')\n",
    "plt.xlabel('Catégorie')\n",
    "plt.ylabel('Quantité')\n",
    "\n",
    "plt.xlim([3, 18])\n",
    "plt.ylim([-5, 30])\n",
    "\n",
    "plt.show()"
   ]
  },
  {
   "cell_type": "markdown",
   "id": "339ef6bd-3222-4a89-9bfe-91d115a7ed4a",
   "metadata": {},
   "source": [
    "* ajouter une légende (utile surtout quand plusieurs variables sont affichées simultanéments) :"
   ]
  },
  {
   "cell_type": "code",
   "execution_count": null,
   "id": "92165fa1-d298-4dd3-afc9-068c57e3d169",
   "metadata": {},
   "outputs": [],
   "source": [
    "y2 = [2, 6, 2, 6, 6, 8, 7, 10]\n",
    "y3 = [2, 4, 6, 8, 10, 12, 14, 16]\n",
    "x.sort()"
   ]
  },
  {
   "cell_type": "code",
   "execution_count": null,
   "id": "bdfed8c0-415a-4ae8-8fd3-b581bc227021",
   "metadata": {},
   "outputs": [],
   "source": [
    "plt.plot(x, y, label='y')\n",
    "plt.plot(x, y2, label='y2')\n",
    "plt.plot(x, y3, label='y3')\n",
    "plt.title('Quantités y, y1 et y3 en fonction de x')\n",
    "plt.xlabel('x')\n",
    "plt.ylabel('Quantité')\n",
    "\n",
    "plt.legend(loc='best') #choisi le meilleur emplacement pour placer le cadre de la légende\n",
    "\n",
    "plt.show()"
   ]
  },
  {
   "cell_type": "markdown",
   "id": "463dc4d1-b6c0-4d91-9827-4ad132e722e0",
   "metadata": {},
   "source": [
    "* ajouter une grille (pour améliorer la lisibilité) :"
   ]
  },
  {
   "cell_type": "code",
   "execution_count": null,
   "id": "87921557-3381-4632-b492-9292eb6b6e85",
   "metadata": {},
   "outputs": [],
   "source": [
    "plt.plot(x, y, label='y')\n",
    "plt.plot(x, y2, label='y2')\n",
    "plt.plot(x, y3, label='y3')\n",
    "plt.title('Quantités y, y1 et y3 en fonction de x')\n",
    "plt.xlabel('x')\n",
    "plt.ylabel('Quantité')\n",
    "plt.legend(loc='best')\n",
    "\n",
    "plt.grid(axis='y', linewidth=0.5)\n",
    "\n",
    "plt.show()"
   ]
  },
  {
   "cell_type": "markdown",
   "id": "e2c0e657-9785-45ca-ab2c-0ad3c9bb6440",
   "metadata": {},
   "source": [
    "#### ```Axes.set()```\n",
    "\n",
    "Pour certains éléments, on peut obtenir le même résultat en passant certains arguments à la méthode ```ax.set()```.\n",
    "Il faut auparavant instancier notre graphique explicitement :"
   ]
  },
  {
   "cell_type": "code",
   "execution_count": null,
   "id": "5352ddb7-41b1-4e7e-8a06-7049e8d3db1c",
   "metadata": {},
   "outputs": [],
   "source": [
    "fig, ax = plt.subplots()\n",
    "\n",
    "ax.plot(x, y, label='y')\n",
    "ax.plot(x, y2, label='y2')\n",
    "ax.plot(x, y3, label='y3')\n",
    "\n",
    "ax.set(title='Quantités y, y1 et y3 en fonction de x', \n",
    "       xlabel='x',\n",
    "       ylabel='Quantité')\n",
    "\n",
    "ax.legend(loc='best')\n",
    "ax.grid(axis=\"y\", linewidth=0.5)\n",
    "\n",
    "plt.show()"
   ]
  },
  {
   "cell_type": "markdown",
   "id": "c67bd556-de9d-4414-9065-b465170454f3",
   "metadata": {},
   "source": [
    "* fixer la taille d’un graphe (figure) :"
   ]
  },
  {
   "cell_type": "code",
   "execution_count": null,
   "id": "487ddede-fd3a-4caf-902e-f3f69d9f4f10",
   "metadata": {},
   "outputs": [],
   "source": [
    "fig, ax = plt.subplots(figsize = (15, 5))\n",
    "\n",
    "ax.scatter(x,y)\n",
    "\n",
    "plt.show()"
   ]
  },
  {
   "cell_type": "markdown",
   "id": "9f120bce-d839-4873-8e61-f8deb92af527",
   "metadata": {},
   "source": [
    "### La classe Axes (```matplotlib.Axes```)"
   ]
  },
  {
   "cell_type": "markdown",
   "id": "9d108597-7a0a-416c-bb06-cede67951baa",
   "metadata": {},
   "source": [
    "```plt.subplots()``` retourne un objet ```figure``` et un objet ```axes```. Ce dernier représente le tracé d’un graphe/sous-graphe (plot) dans une figure, et contient le tracé des données, les axes (**axis** attention à la nuance), les labels, la légende, etc.\n",
    "\n",
    "Attention à ne pas confondre.\n",
    "Par exemple si pour fixer le titre d’un graphe nous avons vu la méthode ```plt.title()```, pour les Axes c’est la méthode ```Axes.set_title``` :"
   ]
  },
  {
   "cell_type": "code",
   "execution_count": null,
   "id": "a53c01b2-3e21-4bbe-8d2b-30469bbe2675",
   "metadata": {},
   "outputs": [],
   "source": [
    "fig, ax = plt.subplots()\n",
    "\n",
    "ax.scatter(x,y)\n",
    "ax.set_title('Quantités y, y1 et y3 en fonction de x')\n",
    "\n",
    "plt.show()"
   ]
  },
  {
   "cell_type": "markdown",
   "id": "94d78846-f127-4974-a294-d8aeb03b9e5d",
   "metadata": {},
   "source": [
    "On peut accéder à l’Axes généré par ```plt.plot()``` par exemple (et les autres méthodes générant les autres types de graphe) avec la méthode ```plt.gca()``` :"
   ]
  },
  {
   "cell_type": "code",
   "execution_count": null,
   "id": "44ed3fd9-10c9-41ab-b778-bca26380c459",
   "metadata": {},
   "outputs": [],
   "source": [
    "plt.plot(x,y)\n",
    "\n",
    "ax = plt.gca()\n",
    "\n",
    "ax.set_title('Quantités y, y1 et y3 en fonction de x')\n",
    "\n",
    "plt.show()"
   ]
  },
  {
   "cell_type": "markdown",
   "id": "b07f9406-755a-48e2-8d5e-1493a345e345",
   "metadata": {},
   "source": [
    "Quand, avec pandas, vous faites un ```df.plot()```, cette méthode vous retourne bien un objet de la classe Axes, que vous pouvez manipuler comme tel :"
   ]
  },
  {
   "cell_type": "code",
   "execution_count": null,
   "id": "1cb50a55-bc5f-4b0c-b9f9-5edd8490844e",
   "metadata": {},
   "outputs": [],
   "source": [
    "df = pd.DataFrame.from_dict(data= { 'x': x, 'quantité y': y}, orient='columns')\n",
    "df.set_index('x', inplace = True)\n",
    "df"
   ]
  },
  {
   "cell_type": "code",
   "execution_count": null,
   "id": "42515fc0-599c-4753-b246-35e2da8c9b99",
   "metadata": {},
   "outputs": [],
   "source": [
    "ax = df.plot()\n",
    "\n",
    "ax.set_title('y en fonction de x')\n",
    "\n",
    "plt.show()"
   ]
  },
  {
   "cell_type": "markdown",
   "id": "718a203a-4a41-482c-909d-a65bb5f49fb9",
   "metadata": {},
   "source": [
    "* changer l’apparence du cadre (```Axes.spines```)"
   ]
  },
  {
   "cell_type": "code",
   "execution_count": null,
   "id": "bd71a3b0-7e53-4df2-bf0c-d142b461dfbd",
   "metadata": {},
   "outputs": [],
   "source": [
    "fig, ax = plt.subplots()\n",
    "\n",
    "ax.scatter(x,y)\n",
    "\n",
    "ax.spines['right'].set_color(None)\n",
    "ax.spines['top'].set_color('green')\n",
    "ax.spines['bottom'].set_color('red')\n",
    "ax.spines['left'].set_color('orange')\n",
    "\n",
    "plt.show()"
   ]
  },
  {
   "cell_type": "markdown",
   "id": "c75c440f-0ffe-4c5b-9bf3-9a6b2ca7f722",
   "metadata": {},
   "source": [
    "Dans [la cheatsheets](https://matplotlib.org/cheatsheets/_images/cheatsheets-1.png) de MatplotLib, vous avez une figure qui indique chaque élément d’un graphe, et comment les modifier. Des éléments dont nous n’avons pas parlé sont ceux qui représententent les données : barres, points, lignes… ils peuvent être modifiés également.\n",
    "\n"
   ]
  },
  {
   "cell_type": "markdown",
   "id": "9501748f-8b79-4425-9c22-4c2f42fb1a1c",
   "metadata": {},
   "source": [
    "## Exercise time !\n",
    "\n",
    "Je vous invite donc, à titre d’exercice, à charger dans un dataframe un des fichiers suggérés au début du notebook, et de créer des graphes en les modifiant comme nous venons de le voir (avec titres, légende, etc.) et en modifiant également les lignes, barres ou point (marker), en vous référant à la documentation de MatplotLib.\n",
    "\n",
    "Pour certains jeux de données, vous aurez certainement à faire des ```.to_datetime()```. Profitez-en pour faire également des ```.groupby()``` (en fonction des mois, des années, des pays, des continents selont les données), ou de faire des ```.merge()``` avec des jeux de données différentes, mais qui partagent la même distribution spatiales (pays…) ou temporelles (comme les données oil et gas). "
   ]
  },
  {
   "cell_type": "code",
   "execution_count": null,
   "id": "1ba82f7c-7b87-45cb-bc72-b5ad8f1cb9ed",
   "metadata": {},
   "outputs": [],
   "source": [
    "# à vous de jouer !"
   ]
  },
  {
   "cell_type": "markdown",
   "id": "46bf3aa5-404b-457f-afaf-6d730b769007",
   "metadata": {},
   "source": [
    "## Les subplots"
   ]
  },
  {
   "cell_type": "markdown",
   "id": "bd86f719-1693-431d-b84a-77426985c76b",
   "metadata": {},
   "source": [
    "Observez attentivement les bouts de code ci-dessous :"
   ]
  },
  {
   "cell_type": "code",
   "execution_count": null,
   "id": "c81821d5-30e4-4245-9d6d-8fcaa190d9c9",
   "metadata": {},
   "outputs": [],
   "source": [
    "plt.figure(figsize=(5,2))\n",
    "plt.subplot(1,2,1)\n",
    "plt.subplot(1,2,2)\n",
    "plt.show()"
   ]
  },
  {
   "cell_type": "code",
   "execution_count": null,
   "id": "12c2aaa4-3d33-41f2-9e46-8c9e26cc010c",
   "metadata": {},
   "outputs": [],
   "source": [
    "plt.figure(figsize=(5,5))\n",
    "plt.subplot(2,2,1)\n",
    "plt.subplot(2,2,2)\n",
    "plt.subplot(2,2,3)\n",
    "plt.subplot(2,2,4)\n",
    "plt.show()"
   ]
  },
  {
   "cell_type": "code",
   "execution_count": null,
   "id": "3486994d-db87-4c5b-bd05-b894a8570eaf",
   "metadata": {},
   "outputs": [],
   "source": [
    "plt.figure(figsize=(2,5))\n",
    "plt.subplot(2,1,1)\n",
    "plt.subplot(2,1,2)\n",
    "plt.show()"
   ]
  },
  {
   "cell_type": "code",
   "execution_count": null,
   "id": "c29812c0-69e4-4940-8f0f-a2988cd04c8b",
   "metadata": {},
   "outputs": [],
   "source": [
    "plt.figure(figsize=(5,5))\n",
    "plt.subplot(2,2,1)\n",
    "plt.subplot(2,2,2)\n",
    "plt.subplot(2,2,3)\n",
    "plt.show()"
   ]
  },
  {
   "cell_type": "markdown",
   "id": "5e3a66de-b3d4-4a28-865c-dfd637203e1f",
   "metadata": {},
   "source": [
    "Arrivez-vous à déduire la logique derrière l’affichage des subplots ?\n",
    "\n",
    "De manière un peu plus élaborée :"
   ]
  },
  {
   "cell_type": "code",
   "execution_count": null,
   "id": "28379c00-8eb0-4754-baed-8ad36bd640f2",
   "metadata": {},
   "outputs": [],
   "source": [
    "fig = plt.figure(figsize=(8,3))\n",
    "\n",
    "ax1 = fig.add_subplot(1,2,1) # on ajoute les Axes à la figure au fur et à mesure\n",
    "ax1.plot()\n",
    "ax1.set_title('ax1')\n",
    "\n",
    "ax2 = fig.add_subplot(1,2,2)\n",
    "ax2.plot()\n",
    "ax2.set_title('ax2')\n",
    "\n",
    "# Global figure methods\n",
    "fig.suptitle('Avec les objets Axes')\n",
    "plt.show()\n",
    "\n"
   ]
  },
  {
   "cell_type": "markdown",
   "id": "405baa4e-1158-4f60-ad69-87a7311b9e11",
   "metadata": {},
   "source": [
    "Une méthode encore plus élaborée, et explicite.\n",
    "On peut dès l’appel de ```plt.subplots()``` spécifier les « dimensions » de la figure avec une matrice (nd-array). Il suffit alors d’indiquer la position dans cette matrice de chaque subplot :"
   ]
  },
  {
   "cell_type": "code",
   "execution_count": null,
   "id": "a8bbd34a-1af1-40e7-b218-f2751abc45e0",
   "metadata": {},
   "outputs": [],
   "source": [
    "fig, axs = plt.subplots(1, 2, figsize=(8,3)) \n",
    "\n",
    "axs[0].plot()\n",
    "axs[0].set_title('axs[0]')\n",
    "\n",
    "axs[1].plot()\n",
    "axs[1].set_title('axs[1]')\n",
    "\n",
    "plt.suptitle('Avec une matrice d’objets Axes')\n",
    "plt.show()\n",
    "\n"
   ]
  },
  {
   "cell_type": "code",
   "execution_count": null,
   "id": "ee5ca820-0468-4e0c-b448-74ac84df5238",
   "metadata": {},
   "outputs": [],
   "source": [
    "type(axs)"
   ]
  },
  {
   "cell_type": "code",
   "execution_count": null,
   "id": "02dde3c6-d590-472c-8fb4-4e05be14e8dc",
   "metadata": {},
   "outputs": [],
   "source": [
    "axs"
   ]
  },
  {
   "cell_type": "code",
   "execution_count": null,
   "id": "3ec892d3-c989-4793-ac7e-e574c3c96639",
   "metadata": {},
   "outputs": [],
   "source": [
    "fig, axs_3x3 = plt.subplots(3, 3)"
   ]
  },
  {
   "cell_type": "code",
   "execution_count": null,
   "id": "f17a35c0-c54a-478b-bef8-059d45874463",
   "metadata": {},
   "outputs": [],
   "source": [
    "axs_3x3"
   ]
  },
  {
   "cell_type": "markdown",
   "id": "2469d989-420c-4660-aeec-1251e6461f00",
   "metadata": {},
   "source": [
    "On pourra utiliser des boucle pour parcourir cette nd-array et créer des subplots de manière itérative en parcourant de même les données correspondantes (avec des boucles)."
   ]
  },
  {
   "cell_type": "markdown",
   "id": "251de5bd-672b-49d3-af6c-60b22d563973",
   "metadata": {},
   "source": [
    "### Une méthode « low-level » : ```GridSpec```"
   ]
  },
  {
   "cell_type": "markdown",
   "id": "2ec65eae-fd3f-42d1-9920-7c756b76725d",
   "metadata": {},
   "source": [
    "Il s’agit d’une classe à qui l’on va donner en argument quand on l’instancie le nombre de lignes et de colonnes dans notre figure. Ensuite on ajoute un subplot sur des slices de lignes et colonnes si on veut un subplot qui s’étale sur plusieurs lignes ou colonnes (il faut donc bien maîtriser les slices pour s’y retrouver !)"
   ]
  },
  {
   "cell_type": "code",
   "execution_count": null,
   "id": "41ac2371-eb57-4299-830c-ecaf7e077668",
   "metadata": {},
   "outputs": [],
   "source": [
    "fig = plt.figure()\n",
    "fig.suptitle(\"GridSpec Power !\")\n",
    "\n",
    "gs = plt.GridSpec(3, 3)\n",
    "ax1 = fig.add_subplot(gs[:-1, :]) # on prend les lignes du début jusqu’à l’avant dernière \n",
    "                                  # et toutes les colonnes\n",
    "ax2 = fig.add_subplot(gs[-1, :-1]) # on prend la dernière ligne, et les colonnes du début \n",
    "                                    # jusqu’à l’avant dernière\n",
    "                                    # bien sûr on aurait pu écrire gs[2, :-1]\n",
    "ax3 = fig.add_subplot(gs[-1, -1]) # on prend la dernière ligne et la dernière colonne\n",
    "                                    # bien sûr on aurait pu écrire gs[2, 2]\n",
    "\n",
    "plt.show()"
   ]
  },
  {
   "cell_type": "code",
   "execution_count": null,
   "id": "f827b81a-42cb-4bb3-b417-ea446ed16590",
   "metadata": {},
   "outputs": [],
   "source": [
    "fig = plt.figure()\n",
    "fig.suptitle('GridSpec en spécifiant les espacements')\n",
    "\n",
    "# Modifiez les valeurs des espacements pour voir comment cela réagit !\n",
    "\n",
    "gs1 = plt.GridSpec(3, 3, left=0.05, right=0.48, wspace=0.6, hspace=0.3)\n",
    "ax1 = fig.add_subplot(gs1[:-1, :])\n",
    "ax2 = fig.add_subplot(gs1[-1, :-1])\n",
    "ax3 = fig.add_subplot(gs1[-1, -1])\n",
    "\n",
    "gs2 = plt.GridSpec(3, 3, left=0.55, right=0.98, wspace=0.6, hspace=0.3)\n",
    "ax4 = fig.add_subplot(gs2[:, :-1])\n",
    "ax5 = fig.add_subplot(gs2[:-1, -1])\n",
    "ax6 = fig.add_subplot(gs2[-1, -1])\n",
    "\n",
    "plt.show()"
   ]
  },
  {
   "cell_type": "markdown",
   "id": "b59192ad-ee9c-4d71-8ed8-c054a4002b89",
   "metadata": {},
   "source": [
    "N’hésitez pas à lire [cette page](https://matplotlib.org/stable/users/explain/axes/arranging_axes.html) (même si elle fait un peu mal à la tête) de la documentation de MatploLib sur différentes méthodes pour les subplots."
   ]
  },
  {
   "cell_type": "markdown",
   "id": "a5313acf-7c21-4b0c-a319-1c6634cac72c",
   "metadata": {},
   "source": [
    "## Exercice"
   ]
  },
  {
   "cell_type": "markdown",
   "id": "0ccefdae-aeff-4b61-b388-4874c2ee3d91",
   "metadata": {},
   "source": [
    "À partir des données que vous avez choisis, tracez des graphes avec des subplots (par exemple, un subplot par année ou par pays)."
   ]
  },
  {
   "cell_type": "code",
   "execution_count": null,
   "id": "1cc554d3-dffa-4535-bd8b-70310c8ea6b8",
   "metadata": {},
   "outputs": [],
   "source": [
    "# À vous de jouer !!!!"
   ]
  },
  {
   "cell_type": "code",
   "execution_count": null,
   "id": "86ec3ba9-c590-4ee6-9074-62b7903eb4c5",
   "metadata": {},
   "outputs": [],
   "source": []
  }
 ],
 "metadata": {
  "kernelspec": {
   "display_name": "Python 3 (ipykernel)",
   "language": "python",
   "name": "python3"
  },
  "language_info": {
   "codemirror_mode": {
    "name": "ipython",
    "version": 3
   },
   "file_extension": ".py",
   "mimetype": "text/x-python",
   "name": "python",
   "nbconvert_exporter": "python",
   "pygments_lexer": "ipython3",
   "version": "3.11.2"
  }
 },
 "nbformat": 4,
 "nbformat_minor": 5
}
